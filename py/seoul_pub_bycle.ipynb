{
 "cells": [
  {
   "cell_type": "code",
   "execution_count": 2,
   "id": "965faddd",
   "metadata": {},
   "outputs": [],
   "source": [
    "import numpy as np\n",
    "import pandas as pd\n",
    "from matplotlib import font_manager , rc\n",
    "import matplotlib.pyplot as plt\n",
    "import matplotlib as mpl\n",
    "\n",
    "mpl.rcParams['axes.unicode_minus']=False\n",
    "plt.rc('font',family='Malgun Gothic')\n"
   ]
  },
  {
   "cell_type": "code",
   "execution_count": 5,
   "id": "698cce2c",
   "metadata": {},
   "outputs": [],
   "source": [
    "df1 = pd.read_csv('./공공자전거 대여이력 정보_2021.01.csv',\n",
    "                encoding='cp949', low_memory=False)\n",
    "df2 = pd.read_csv('./공공자전거 대여이력 정보_2021.02.csv',\n",
    "                encoding='cp949', low_memory=False)\n",
    "df3 = pd.read_csv('./공공자전거 대여이력 정보_2021.03.csv',\n",
    "                encoding='cp949', low_memory=False)\n",
    "df4 = pd.read_csv('./공공자전거 대여이력 정보_2021.04.csv',\n",
    "                encoding='cp949', low_memory=False)\n",
    "df5 = pd.read_csv('./공공자전거 대여이력 정보_2021.05.csv',\n",
    "                encoding='cp949', low_memory=False)\n",
    "df6 = pd.read_csv('./공공자전거 대여이력 정보_2021.06.csv',\n",
    "                encoding='cp949', low_memory=False)\n"
   ]
  },
  {
   "cell_type": "code",
   "execution_count": 41,
   "id": "6be95ca6",
   "metadata": {},
   "outputs": [],
   "source": [
    "df = pd.concat([df1,df2,df3,df4,df5,df6],axis=0)"
   ]
  },
  {
   "cell_type": "code",
   "execution_count": 10,
   "id": "fb7df170",
   "metadata": {},
   "outputs": [
    {
     "data": {
      "text/plain": [
       "(13613873, 11)"
      ]
     },
     "execution_count": 10,
     "metadata": {},
     "output_type": "execute_result"
    }
   ],
   "source": [
    "df.shape"
   ]
  },
  {
   "cell_type": "code",
   "execution_count": 42,
   "id": "5bbe7187",
   "metadata": {},
   "outputs": [
    {
     "name": "stdout",
     "output_type": "stream",
     "text": [
      "<class 'pandas.core.frame.DataFrame'>\n",
      "Int64Index: 13613873 entries, 0 to 3445943\n",
      "Data columns (total 11 columns):\n",
      " #   Column    Dtype  \n",
      "---  ------    -----  \n",
      " 0   자전거번호     object \n",
      " 1   대여일시      object \n",
      " 2   대여 대여소번호  int64  \n",
      " 3   대여 대여소명   object \n",
      " 4   대여거치대     object \n",
      " 5   반납일시      object \n",
      " 6   반납대여소번호   object \n",
      " 7   반납대여소명    object \n",
      " 8   반납거치대     int64  \n",
      " 9   이용시간      float64\n",
      " 10  이용거리      float64\n",
      "dtypes: float64(2), int64(2), object(7)\n",
      "memory usage: 1.2+ GB\n"
     ]
    }
   ],
   "source": [
    "df.info()"
   ]
  },
  {
   "cell_type": "code",
   "execution_count": 92,
   "id": "26089818",
   "metadata": {},
   "outputs": [],
   "source": [
    "#불필요 컬럼제거\n",
    "df = df.drop(columns=['자전거번호','대여거치대','반납거치대'])"
   ]
  },
  {
   "cell_type": "code",
   "execution_count": 44,
   "id": "8e0b48d2",
   "metadata": {},
   "outputs": [],
   "source": [
    "# 카테고리 형변환\n",
    "df['반납대여소번호'] = df['반납대여소번호'].astype('category')\n",
    "df['대여 대여소번호'] = df['대여 대여소번호'].astype('category')"
   ]
  },
  {
   "cell_type": "code",
   "execution_count": 45,
   "id": "8260a08d",
   "metadata": {},
   "outputs": [],
   "source": [
    "# datetime으로 변환\n",
    "df['대여일시'] = pd.to_datetime(df['대여일시'])\n",
    "df['반납일시'] = pd.to_datetime(df['반납일시'],errors='coerce')"
   ]
  },
  {
   "cell_type": "code",
   "execution_count": 46,
   "id": "c13ff2a2",
   "metadata": {},
   "outputs": [],
   "source": [
    "# errors 오류 : {무시 , 상승 , 강제}, 기본 상슴\n",
    "# 'raise'  : 잘못된 구문 분석은 예외를 발생\n",
    "# 'coerce' : 잘못된 구문 분석이 NaT로 설정\n",
    "# 'ignore' : 잘못된 구문 분석이 입력을 반환함."
   ]
  },
  {
   "cell_type": "code",
   "execution_count": 48,
   "id": "4e368dc2",
   "metadata": {},
   "outputs": [
    {
     "name": "stdout",
     "output_type": "stream",
     "text": [
      "<class 'pandas.core.frame.DataFrame'>\n",
      "Int64Index: 13613873 entries, 0 to 3445943\n",
      "Data columns (total 11 columns):\n",
      " #   Column    Dtype         \n",
      "---  ------    -----         \n",
      " 0   자전거번호     object        \n",
      " 1   대여일시      datetime64[ns]\n",
      " 2   대여 대여소번호  category      \n",
      " 3   대여 대여소명   object        \n",
      " 4   대여거치대     object        \n",
      " 5   반납일시      datetime64[ns]\n",
      " 6   반납대여소번호   category      \n",
      " 7   반납대여소명    object        \n",
      " 8   반납거치대     int64         \n",
      " 9   이용시간      float64       \n",
      " 10  이용거리      float64       \n",
      "dtypes: category(2), datetime64[ns](2), float64(2), int64(1), object(4)\n",
      "memory usage: 1.1+ GB\n"
     ]
    }
   ],
   "source": [
    "df.info()"
   ]
  },
  {
   "cell_type": "code",
   "execution_count": 50,
   "id": "e15365cb",
   "metadata": {},
   "outputs": [
    {
     "data": {
      "text/plain": [
       "자전거번호       0\n",
       "대여일시        0\n",
       "대여 대여소번호    0\n",
       "대여 대여소명     0\n",
       "대여거치대       0\n",
       "반납일시        0\n",
       "반납대여소번호     0\n",
       "반납대여소명      0\n",
       "반납거치대       0\n",
       "이용시간        0\n",
       "이용거리        0\n",
       "dtype: int64"
      ]
     },
     "execution_count": 50,
     "metadata": {},
     "output_type": "execute_result"
    }
   ],
   "source": [
    "df.isna().sum()"
   ]
  },
  {
   "cell_type": "code",
   "execution_count": 51,
   "id": "a073d566",
   "metadata": {},
   "outputs": [],
   "source": [
    "df.dropna(inplace=True)"
   ]
  },
  {
   "cell_type": "code",
   "execution_count": 71,
   "id": "8a9ab684",
   "metadata": {},
   "outputs": [
    {
     "data": {
      "text/html": [
       "<div>\n",
       "<style scoped>\n",
       "    .dataframe tbody tr th:only-of-type {\n",
       "        vertical-align: middle;\n",
       "    }\n",
       "\n",
       "    .dataframe tbody tr th {\n",
       "        vertical-align: top;\n",
       "    }\n",
       "\n",
       "    .dataframe thead th {\n",
       "        text-align: right;\n",
       "    }\n",
       "</style>\n",
       "<table border=\"1\" class=\"dataframe\">\n",
       "  <thead>\n",
       "    <tr style=\"text-align: right;\">\n",
       "      <th></th>\n",
       "      <th>자전거번호</th>\n",
       "      <th>대여일시</th>\n",
       "      <th>대여 대여소번호</th>\n",
       "      <th>대여 대여소명</th>\n",
       "      <th>대여거치대</th>\n",
       "      <th>반납일시</th>\n",
       "      <th>반납대여소번호</th>\n",
       "      <th>반납대여소명</th>\n",
       "      <th>반납거치대</th>\n",
       "      <th>이용시간</th>\n",
       "      <th>이용거리</th>\n",
       "      <th>대여날짜</th>\n",
       "    </tr>\n",
       "  </thead>\n",
       "  <tbody>\n",
       "    <tr>\n",
       "      <th>0</th>\n",
       "      <td>SPB-53145</td>\n",
       "      <td>2021-01-02 20:50:36</td>\n",
       "      <td>3</td>\n",
       "      <td>중랑센터</td>\n",
       "      <td>0</td>\n",
       "      <td>2021-01-02 21:15:41</td>\n",
       "      <td>668</td>\n",
       "      <td>서울축산농협(장안지점)</td>\n",
       "      <td>0</td>\n",
       "      <td>25.0</td>\n",
       "      <td>0.0</td>\n",
       "      <td>2021-01-02</td>\n",
       "    </tr>\n",
       "    <tr>\n",
       "      <th>1</th>\n",
       "      <td>SPB-53074</td>\n",
       "      <td>2021-01-04 16:02:12</td>\n",
       "      <td>3</td>\n",
       "      <td>중랑센터</td>\n",
       "      <td>0</td>\n",
       "      <td>2021-01-04 16:17:06</td>\n",
       "      <td>668</td>\n",
       "      <td>서울축산농협(장안지점)</td>\n",
       "      <td>0</td>\n",
       "      <td>14.0</td>\n",
       "      <td>0.0</td>\n",
       "      <td>2021-01-04</td>\n",
       "    </tr>\n",
       "  </tbody>\n",
       "</table>\n",
       "</div>"
      ],
      "text/plain": [
       "       자전거번호                대여일시 대여 대여소번호 대여 대여소명 대여거치대                반납일시  \\\n",
       "0  SPB-53145 2021-01-02 20:50:36        3    중랑센터     0 2021-01-02 21:15:41   \n",
       "1  SPB-53074 2021-01-04 16:02:12        3    중랑센터     0 2021-01-04 16:17:06   \n",
       "\n",
       "  반납대여소번호        반납대여소명  반납거치대  이용시간  이용거리        대여날짜  \n",
       "0     668  서울축산농협(장안지점)      0  25.0   0.0  2021-01-02  \n",
       "1     668  서울축산농협(장안지점)      0  14.0   0.0  2021-01-04  "
      ]
     },
     "execution_count": 71,
     "metadata": {},
     "output_type": "execute_result"
    }
   ],
   "source": [
    "# 분석 : 일별 이용현황\n",
    "#대여날짜 컬럼을 추가\n",
    "df['대여날짜'] = df['대여일시'].dt.date\n",
    "df.head(2)"
   ]
  },
  {
   "cell_type": "code",
   "execution_count": 68,
   "id": "4cfeee30",
   "metadata": {},
   "outputs": [],
   "source": [
    "#대여 날짜별 대여 건수\n",
    "df_count=df.groupby('대여날짜').대여일시.count().to_frame()"
   ]
  },
  {
   "cell_type": "code",
   "execution_count": 77,
   "id": "93d6fe5d",
   "metadata": {},
   "outputs": [],
   "source": [
    "df_count.columns=['대여건수']"
   ]
  },
  {
   "cell_type": "code",
   "execution_count": 66,
   "id": "96245d93",
   "metadata": {},
   "outputs": [
    {
     "data": {
      "text/plain": [
       "Text(0.5, 1.0, '서울시 공공자전거 대여')"
      ]
     },
     "execution_count": 66,
     "metadata": {},
     "output_type": "execute_result"
    },
    {
     "data": {
      "image/png": "[encoded data removed]",
      "text/plain": [
       "<Figure size 640x480 with 1 Axes>"
      ]
     },
     "metadata": {},
     "output_type": "display_data"
    }
   ],
   "source": [
    "#대여날짜별 대여건수 시각화\n",
    "x=df_count.index\n",
    "y=df_count.values\n",
    "plt.plot(x,y)\n",
    "plt.title('서울시 공공자전거 대여')"
   ]
  },
  {
   "cell_type": "code",
   "execution_count": 79,
   "id": "b940a6ba",
   "metadata": {},
   "outputs": [
    {
     "data": {
      "text/html": [
       "<div>\n",
       "<style scoped>\n",
       "    .dataframe tbody tr th:only-of-type {\n",
       "        vertical-align: middle;\n",
       "    }\n",
       "\n",
       "    .dataframe tbody tr th {\n",
       "        vertical-align: top;\n",
       "    }\n",
       "\n",
       "    .dataframe thead th {\n",
       "        text-align: right;\n",
       "    }\n",
       "</style>\n",
       "<table border=\"1\" class=\"dataframe\">\n",
       "  <thead>\n",
       "    <tr style=\"text-align: right;\">\n",
       "      <th></th>\n",
       "      <th>이용시간</th>\n",
       "    </tr>\n",
       "    <tr>\n",
       "      <th>대여날짜</th>\n",
       "      <th></th>\n",
       "    </tr>\n",
       "  </thead>\n",
       "  <tbody>\n",
       "    <tr>\n",
       "      <th>2021-01-01</th>\n",
       "      <td>692309.0</td>\n",
       "    </tr>\n",
       "    <tr>\n",
       "      <th>2021-01-02</th>\n",
       "      <td>686580.0</td>\n",
       "    </tr>\n",
       "    <tr>\n",
       "      <th>2021-01-03</th>\n",
       "      <td>609571.0</td>\n",
       "    </tr>\n",
       "    <tr>\n",
       "      <th>2021-01-04</th>\n",
       "      <td>750721.0</td>\n",
       "    </tr>\n",
       "    <tr>\n",
       "      <th>2021-01-05</th>\n",
       "      <td>610227.0</td>\n",
       "    </tr>\n",
       "    <tr>\n",
       "      <th>...</th>\n",
       "      <td>...</td>\n",
       "    </tr>\n",
       "    <tr>\n",
       "      <th>2021-06-26</th>\n",
       "      <td>3168288.0</td>\n",
       "    </tr>\n",
       "    <tr>\n",
       "      <th>2021-06-27</th>\n",
       "      <td>2706168.0</td>\n",
       "    </tr>\n",
       "    <tr>\n",
       "      <th>2021-06-28</th>\n",
       "      <td>2405249.0</td>\n",
       "    </tr>\n",
       "    <tr>\n",
       "      <th>2021-06-29</th>\n",
       "      <td>2530020.0</td>\n",
       "    </tr>\n",
       "    <tr>\n",
       "      <th>2021-06-30</th>\n",
       "      <td>2950342.0</td>\n",
       "    </tr>\n",
       "  </tbody>\n",
       "</table>\n",
       "<p>181 rows × 1 columns</p>\n",
       "</div>"
      ],
      "text/plain": [
       "                 이용시간\n",
       "대여날짜                 \n",
       "2021-01-01   692309.0\n",
       "2021-01-02   686580.0\n",
       "2021-01-03   609571.0\n",
       "2021-01-04   750721.0\n",
       "2021-01-05   610227.0\n",
       "...               ...\n",
       "2021-06-26  3168288.0\n",
       "2021-06-27  2706168.0\n",
       "2021-06-28  2405249.0\n",
       "2021-06-29  2530020.0\n",
       "2021-06-30  2950342.0\n",
       "\n",
       "[181 rows x 1 columns]"
      ]
     },
     "execution_count": 79,
     "metadata": {},
     "output_type": "execute_result"
    }
   ],
   "source": [
    "#대여 날짜별 이용시간\n",
    "df_sum=df.groupby('대여날짜')['이용시간'].sum().to_frame()\n",
    "df_sum"
   ]
  },
  {
   "cell_type": "code",
   "execution_count": 80,
   "id": "2b8bf1f6",
   "metadata": {
    "scrolled": true
   },
   "outputs": [
    {
     "data": {
      "text/plain": [
       "[<matplotlib.lines.Line2D at 0x13b5e409f70>]"
      ]
     },
     "execution_count": 80,
     "metadata": {},
     "output_type": "execute_result"
    },
    {
     "data": {
      "image/png": "[encoded data removed]",
      "text/plain": [
       "<Figure size 640x480 with 1 Axes>"
      ]
     },
     "metadata": {},
     "output_type": "display_data"
    }
   ],
   "source": [
    "x=df_sum.index\n",
    "y=df_sum.values\n",
    "plt.plot(x,y)"
   ]
  },
  {
   "cell_type": "code",
   "execution_count": 83,
   "id": "0d909973",
   "metadata": {
    "scrolled": true
   },
   "outputs": [
    {
     "data": {
      "text/html": [
       "<div>\n",
       "<style scoped>\n",
       "    .dataframe tbody tr th:only-of-type {\n",
       "        vertical-align: middle;\n",
       "    }\n",
       "\n",
       "    .dataframe tbody tr th {\n",
       "        vertical-align: top;\n",
       "    }\n",
       "\n",
       "    .dataframe thead th {\n",
       "        text-align: right;\n",
       "    }\n",
       "</style>\n",
       "<table border=\"1\" class=\"dataframe\">\n",
       "  <thead>\n",
       "    <tr style=\"text-align: right;\">\n",
       "      <th></th>\n",
       "      <th>이용거리</th>\n",
       "    </tr>\n",
       "    <tr>\n",
       "      <th>대여날짜</th>\n",
       "      <th></th>\n",
       "    </tr>\n",
       "  </thead>\n",
       "  <tbody>\n",
       "    <tr>\n",
       "      <th>2021-01-01</th>\n",
       "      <td>4.613529e+07</td>\n",
       "    </tr>\n",
       "    <tr>\n",
       "      <th>2021-01-02</th>\n",
       "      <td>4.409618e+07</td>\n",
       "    </tr>\n",
       "    <tr>\n",
       "      <th>2021-01-03</th>\n",
       "      <td>4.059830e+07</td>\n",
       "    </tr>\n",
       "    <tr>\n",
       "      <th>2021-01-04</th>\n",
       "      <td>5.249645e+07</td>\n",
       "    </tr>\n",
       "    <tr>\n",
       "      <th>2021-01-05</th>\n",
       "      <td>6.944856e+07</td>\n",
       "    </tr>\n",
       "    <tr>\n",
       "      <th>...</th>\n",
       "      <td>...</td>\n",
       "    </tr>\n",
       "    <tr>\n",
       "      <th>2021-06-26</th>\n",
       "      <td>3.635015e+08</td>\n",
       "    </tr>\n",
       "    <tr>\n",
       "      <th>2021-06-27</th>\n",
       "      <td>3.078146e+08</td>\n",
       "    </tr>\n",
       "    <tr>\n",
       "      <th>2021-06-28</th>\n",
       "      <td>2.828124e+08</td>\n",
       "    </tr>\n",
       "    <tr>\n",
       "      <th>2021-06-29</th>\n",
       "      <td>3.031029e+08</td>\n",
       "    </tr>\n",
       "    <tr>\n",
       "      <th>2021-06-30</th>\n",
       "      <td>3.395277e+08</td>\n",
       "    </tr>\n",
       "  </tbody>\n",
       "</table>\n",
       "<p>181 rows × 1 columns</p>\n",
       "</div>"
      ],
      "text/plain": [
       "                    이용거리\n",
       "대여날짜                    \n",
       "2021-01-01  4.613529e+07\n",
       "2021-01-02  4.409618e+07\n",
       "2021-01-03  4.059830e+07\n",
       "2021-01-04  5.249645e+07\n",
       "2021-01-05  6.944856e+07\n",
       "...                  ...\n",
       "2021-06-26  3.635015e+08\n",
       "2021-06-27  3.078146e+08\n",
       "2021-06-28  2.828124e+08\n",
       "2021-06-29  3.031029e+08\n",
       "2021-06-30  3.395277e+08\n",
       "\n",
       "[181 rows x 1 columns]"
      ]
     },
     "execution_count": 83,
     "metadata": {},
     "output_type": "execute_result"
    }
   ],
   "source": [
    "#대여 날짜 별 이용 거리\n",
    "df_dis=df.groupby('대여날짜').이용거리.sum().to_frame()\n",
    "df_dis"
   ]
  },
  {
   "cell_type": "code",
   "execution_count": 84,
   "id": "4e7bee18",
   "metadata": {
    "scrolled": true
   },
   "outputs": [
    {
     "data": {
      "text/plain": [
       "[<matplotlib.lines.Line2D at 0x13b5e917d90>]"
      ]
     },
     "execution_count": 84,
     "metadata": {},
     "output_type": "execute_result"
    },
    {
     "data": {
      "image/png": "[encoded data removed]",
      "text/plain": [
       "<Figure size 640x480 with 1 Axes>"
      ]
     },
     "metadata": {},
     "output_type": "display_data"
    }
   ],
   "source": [
    "x=df_dis.index\n",
    "y=df_dis.values\n",
    "plt.plot(x,y)"
   ]
  },
  {
   "cell_type": "code",
   "execution_count": 85,
   "id": "64729d79",
   "metadata": {},
   "outputs": [
    {
     "data": {
      "text/html": [
       "<div>\n",
       "<style scoped>\n",
       "    .dataframe tbody tr th:only-of-type {\n",
       "        vertical-align: middle;\n",
       "    }\n",
       "\n",
       "    .dataframe tbody tr th {\n",
       "        vertical-align: top;\n",
       "    }\n",
       "\n",
       "    .dataframe thead th {\n",
       "        text-align: right;\n",
       "    }\n",
       "</style>\n",
       "<table border=\"1\" class=\"dataframe\">\n",
       "  <thead>\n",
       "    <tr style=\"text-align: right;\">\n",
       "      <th></th>\n",
       "      <th>대여건수</th>\n",
       "      <th>이용시간</th>\n",
       "      <th>이용거리</th>\n",
       "    </tr>\n",
       "    <tr>\n",
       "      <th>대여날짜</th>\n",
       "      <th></th>\n",
       "      <th></th>\n",
       "      <th></th>\n",
       "    </tr>\n",
       "  </thead>\n",
       "  <tbody>\n",
       "    <tr>\n",
       "      <th>2021-01-01</th>\n",
       "      <td>22119</td>\n",
       "      <td>692309.0</td>\n",
       "      <td>46135287.75</td>\n",
       "    </tr>\n",
       "    <tr>\n",
       "      <th>2021-01-02</th>\n",
       "      <td>23463</td>\n",
       "      <td>686580.0</td>\n",
       "      <td>44096180.54</td>\n",
       "    </tr>\n",
       "    <tr>\n",
       "      <th>2021-01-03</th>\n",
       "      <td>21656</td>\n",
       "      <td>609571.0</td>\n",
       "      <td>40598300.28</td>\n",
       "    </tr>\n",
       "  </tbody>\n",
       "</table>\n",
       "</div>"
      ],
      "text/plain": [
       "             대여건수      이용시간         이용거리\n",
       "대여날짜                                    \n",
       "2021-01-01  22119  692309.0  46135287.75\n",
       "2021-01-02  23463  686580.0  44096180.54\n",
       "2021-01-03  21656  609571.0  40598300.28"
      ]
     },
     "execution_count": 85,
     "metadata": {},
     "output_type": "execute_result"
    }
   ],
   "source": [
    "df_date=pd.concat([df_count,df_sum,df_dis],axis=1)\n",
    "df_date.head(3)"
   ]
  },
  {
   "cell_type": "code",
   "execution_count": 89,
   "id": "5412ddde",
   "metadata": {},
   "outputs": [],
   "source": [
    "#시간대별 대여/반납현황\n",
    "df['대여시간']=df['대여일시'].dt.hour\n",
    "df['반납시간']=df['반납일시'].dt.hour"
   ]
  },
  {
   "cell_type": "code",
   "execution_count": 94,
   "id": "e88ad474",
   "metadata": {},
   "outputs": [
    {
     "name": "stdout",
     "output_type": "stream",
     "text": [
      "<class 'pandas.core.frame.DataFrame'>\n",
      "Int64Index: 13613604 entries, 0 to 3445943\n",
      "Data columns (total 11 columns):\n",
      " #   Column    Dtype         \n",
      "---  ------    -----         \n",
      " 0   대여일시      datetime64[ns]\n",
      " 1   대여 대여소번호  category      \n",
      " 2   대여 대여소명   object        \n",
      " 3   반납일시      datetime64[ns]\n",
      " 4   반납대여소번호   category      \n",
      " 5   반납대여소명    object        \n",
      " 6   이용시간      float64       \n",
      " 7   이용거리      float64       \n",
      " 8   대여날짜      object        \n",
      " 9   대여시간      int64         \n",
      " 10  반납시간      int64         \n",
      "dtypes: category(2), datetime64[ns](2), float64(2), int64(2), object(3)\n",
      "memory usage: 1.1+ GB\n"
     ]
    }
   ],
   "source": [
    "df.info()"
   ]
  },
  {
   "cell_type": "code",
   "execution_count": 103,
   "id": "594e7044",
   "metadata": {},
   "outputs": [],
   "source": [
    "#시간대별 대여 현황\n",
    "df_rental = df['대여시간'].value_counts()"
   ]
  },
  {
   "cell_type": "code",
   "execution_count": 104,
   "id": "9283ad9e",
   "metadata": {},
   "outputs": [],
   "source": [
    "#시간대별 반납 현황\n",
    "df_return = df['반납시간'].value_counts()"
   ]
  },
  {
   "cell_type": "code",
   "execution_count": 114,
   "id": "75707ef6",
   "metadata": {},
   "outputs": [
    {
     "data": {
      "text/plain": [
       "Text(0, 0.5, '대여건수')"
      ]
     },
     "execution_count": 114,
     "metadata": {},
     "output_type": "execute_result"
    },
    {
     "data": {
      "image/png": "[encoded data removed]",
      "text/plain": [
       "<Figure size 640x480 with 1 Axes>"
      ]
     },
     "metadata": {},
     "output_type": "display_data"
    }
   ],
   "source": [
    "#대여시각화\n",
    "x = df_rental.index\n",
    "y = df_rental.values\n",
    "plt.bar(x,y)\n",
    "plt.title('시간대별 대여건수')\n",
    "plt.xlabel('대여시간')\n",
    "plt.ylabel('대여건수',rotation=0)"
   ]
  },
  {
   "cell_type": "code",
   "execution_count": 109,
   "id": "72f4bd74",
   "metadata": {
    "scrolled": true
   },
   "outputs": [
    {
     "data": {
      "text/plain": [
       "Text(0, 0.5, '반납건수')"
      ]
     },
     "execution_count": 109,
     "metadata": {},
     "output_type": "execute_result"
    },
    {
     "data": {
      "image/png": "[encoded data removed]",
      "text/plain": [
       "<Figure size 640x480 with 1 Axes>"
      ]
     },
     "metadata": {},
     "output_type": "display_data"
    }
   ],
   "source": [
    "#반납시각화\n",
    "x = df_return.index\n",
    "y = df_return.values\n",
    "plt.bar(x,y)\n",
    "plt.title('시간대별 대여건수')\n",
    "plt.xlabel('반납시간')\n",
    "plt.ylabel('반납건수')"
   ]
  },
  {
   "cell_type": "code",
   "execution_count": 116,
   "id": "c30c31a7",
   "metadata": {},
   "outputs": [
    {
     "data": {
      "text/plain": [
       "0             3\n",
       "1             3\n",
       "2             3\n",
       "3             3\n",
       "4             3\n",
       "           ... \n",
       "3445939     152\n",
       "3445940     152\n",
       "3445941     152\n",
       "3445942    2220\n",
       "3445943    2220\n",
       "Name: 대여 대여소번호, Length: 13613604, dtype: category\n",
       "Categories (2493, int64): [3, 5, 10, 101, ..., 9999, 88888, 99997, 99999]"
      ]
     },
     "execution_count": 116,
     "metadata": {},
     "output_type": "execute_result"
    }
   ],
   "source": [
    "#대여소별 대여/반납현황\n",
    "df['대여 대여소번호']"
   ]
  },
  {
   "cell_type": "code",
   "execution_count": 118,
   "id": "ffe513b8",
   "metadata": {},
   "outputs": [
    {
     "data": {
      "text/plain": [
       "0            668\n",
       "1            668\n",
       "2            668\n",
       "3            668\n",
       "4            540\n",
       "           ...  \n",
       "3445939    00126\n",
       "3445940    00437\n",
       "3445941    00437\n",
       "3445942    02526\n",
       "3445943    02526\n",
       "Name: 반납대여소번호, Length: 13613604, dtype: category\n",
       "Categories (4811, object): [3, 10, 101, 102, ..., '화랑대역 2번출구 앞', '휘경sk뷰아파트 앞', '휘경여중고삼거리', '흑석역 4번출구']"
      ]
     },
     "execution_count": 118,
     "metadata": {},
     "output_type": "execute_result"
    }
   ],
   "source": [
    "df['반납대여소번호']"
   ]
  },
  {
   "cell_type": "code",
   "execution_count": 119,
   "id": "170ef51f",
   "metadata": {},
   "outputs": [],
   "source": [
    "#대여소 번호의 규칙을 통일하기 위해 0을 제거\n",
    "df['반납대여소번호'] = df['반납대여소번호'].astype('str')"
   ]
  },
  {
   "cell_type": "code",
   "execution_count": 121,
   "id": "85f92af6",
   "metadata": {},
   "outputs": [],
   "source": [
    "#왼쪽의 0을 제거\n",
    "df['반납대여소번호'] = df['반납대여소번호'].str.lstrip('0')"
   ]
  },
  {
   "cell_type": "code",
   "execution_count": 128,
   "id": "51a697ae",
   "metadata": {},
   "outputs": [],
   "source": [
    "df['반납대여소번호'] = df['반납대여소번호'].astype('category')"
   ]
  },
  {
   "cell_type": "code",
   "execution_count": 129,
   "id": "27841e3e",
   "metadata": {
    "scrolled": false
   },
   "outputs": [
    {
     "data": {
      "text/plain": [
       "0           668\n",
       "1           668\n",
       "2           668\n",
       "3           668\n",
       "4           540\n",
       "           ... \n",
       "3445939     126\n",
       "3445940     437\n",
       "3445941     437\n",
       "3445942    2526\n",
       "3445943    2526\n",
       "Name: 반납대여소번호, Length: 13613604, dtype: category\n",
       "Categories (2493, int64): [3, 5, 10, 101, ..., 9999, 88888, 99997, 99999]"
      ]
     },
     "execution_count": 129,
     "metadata": {},
     "output_type": "execute_result"
    }
   ],
   "source": [
    "df['반납대여소번호']"
   ]
  },
  {
   "cell_type": "code",
   "execution_count": 145,
   "id": "caa6fa4d",
   "metadata": {},
   "outputs": [],
   "source": [
    "df_retp=df[['반납대여소번호','반납대여소명']].value_counts()[:10].to_frame()"
   ]
  },
  {
   "cell_type": "code",
   "execution_count": 146,
   "id": "2a03eba3",
   "metadata": {},
   "outputs": [],
   "source": [
    "df_renp=df[['대여 대여소번호','대여 대여소명']].value_counts()[:10].to_frame()"
   ]
  },
  {
   "cell_type": "markdown",
   "id": "8615cc5e",
   "metadata": {},
   "source": [
    "여의나루역 1번출구앞 대여소 이용현황"
   ]
  },
  {
   "cell_type": "code",
   "execution_count": 160,
   "id": "0df591a1",
   "metadata": {},
   "outputs": [],
   "source": [
    "df_207 = df[df['대여 대여소번호'] == 207]"
   ]
  },
  {
   "cell_type": "code",
   "execution_count": 165,
   "id": "d81de0ca",
   "metadata": {},
   "outputs": [],
   "source": [
    "df_exam=df[(df['대여 대여소번호'] == 207)& \n",
    "           (df['반납대여소번호'] == 207)].groupby('대여날짜')['이용거리'].sum().to_frame()"
   ]
  },
  {
   "cell_type": "code",
   "execution_count": 166,
   "id": "56d376c8",
   "metadata": {},
   "outputs": [
    {
     "data": {
      "text/html": [
       "<div>\n",
       "<style scoped>\n",
       "    .dataframe tbody tr th:only-of-type {\n",
       "        vertical-align: middle;\n",
       "    }\n",
       "\n",
       "    .dataframe tbody tr th {\n",
       "        vertical-align: top;\n",
       "    }\n",
       "\n",
       "    .dataframe thead th {\n",
       "        text-align: right;\n",
       "    }\n",
       "</style>\n",
       "<table border=\"1\" class=\"dataframe\">\n",
       "  <thead>\n",
       "    <tr style=\"text-align: right;\">\n",
       "      <th></th>\n",
       "      <th></th>\n",
       "      <th>0</th>\n",
       "    </tr>\n",
       "    <tr>\n",
       "      <th>반납대여소번호</th>\n",
       "      <th>반납대여소명</th>\n",
       "      <th></th>\n",
       "    </tr>\n",
       "  </thead>\n",
       "  <tbody>\n",
       "    <tr>\n",
       "      <th>207</th>\n",
       "      <th>여의나루역 1번출구 앞</th>\n",
       "      <td>18347</td>\n",
       "    </tr>\n",
       "    <tr>\n",
       "      <th>202</th>\n",
       "      <th>국민일보 앞</th>\n",
       "      <td>2006</td>\n",
       "    </tr>\n",
       "    <tr>\n",
       "      <th>222</th>\n",
       "      <th>시범아파트버스정류장 옆</th>\n",
       "      <td>1588</td>\n",
       "    </tr>\n",
       "    <tr>\n",
       "      <th>249</th>\n",
       "      <th>여의도중학교 옆</th>\n",
       "      <td>1525</td>\n",
       "    </tr>\n",
       "    <tr>\n",
       "      <th>272</th>\n",
       "      <th>당산육갑문</th>\n",
       "      <td>1269</td>\n",
       "    </tr>\n",
       "    <tr>\n",
       "      <th>...</th>\n",
       "      <th>...</th>\n",
       "      <td>...</td>\n",
       "    </tr>\n",
       "    <tr>\n",
       "      <th>2414</th>\n",
       "      <th>도곡역 아카데미스위트 앞</th>\n",
       "      <td>1</td>\n",
       "    </tr>\n",
       "    <tr>\n",
       "      <th>669</th>\n",
       "      <th>청계한신휴플러스앞 삼거리</th>\n",
       "      <td>1</td>\n",
       "    </tr>\n",
       "    <tr>\n",
       "      <th>1661</th>\n",
       "      <th>당현천근린공원</th>\n",
       "      <td>1</td>\n",
       "    </tr>\n",
       "    <tr>\n",
       "      <th>1670</th>\n",
       "      <th>노원경찰서교차로</th>\n",
       "      <td>1</td>\n",
       "    </tr>\n",
       "    <tr>\n",
       "      <th>966</th>\n",
       "      <th>서울혁신파크1</th>\n",
       "      <td>1</td>\n",
       "    </tr>\n",
       "  </tbody>\n",
       "</table>\n",
       "<p>1413 rows × 1 columns</p>\n",
       "</div>"
      ],
      "text/plain": [
       "                           0\n",
       "반납대여소번호 반납대여소명              \n",
       "207     여의나루역 1번출구 앞   18347\n",
       "202     국민일보 앞          2006\n",
       "222     시범아파트버스정류장 옆    1588\n",
       "249     여의도중학교 옆        1525\n",
       "272     당산육갑문           1269\n",
       "...                      ...\n",
       "2414    도곡역 아카데미스위트 앞      1\n",
       "669     청계한신휴플러스앞 삼거리      1\n",
       "1661    당현천근린공원            1\n",
       "1670    노원경찰서교차로           1\n",
       "966     서울혁신파크1            1\n",
       "\n",
       "[1413 rows x 1 columns]"
      ]
     },
     "execution_count": 166,
     "metadata": {},
     "output_type": "execute_result"
    }
   ],
   "source": [
    "#여의나루 1번출구 앞에서 빌려서 제일 많이 반납한 장소\n",
    "df_207[['반납대여소번호','반납대여소명']].value_counts().to_frame()"
   ]
  },
  {
   "cell_type": "code",
   "execution_count": 168,
   "id": "65e4fd9e",
   "metadata": {},
   "outputs": [
    {
     "name": "stderr",
     "output_type": "stream",
     "text": [
      "C:\\Users\\tjoeun\\AppData\\Local\\Temp\\ipykernel_9400\\622060603.py:2: SettingWithCopyWarning: \n",
      "A value is trying to be set on a copy of a slice from a DataFrame.\n",
      "Try using .loc[row_indexer,col_indexer] = value instead\n",
      "\n",
      "See the caveats in the documentation: https://pandas.pydata.org/pandas-docs/stable/user_guide/indexing.html#returning-a-view-versus-a-copy\n",
      "  df_207['대여요일']=df_207['대여일시'].dt.strftime('%a')\n"
     ]
    }
   ],
   "source": [
    "#요일별 대여현황\n",
    "df_207['대여요일']=df_207['대여일시'].dt.strftime('%a')"
   ]
  },
  {
   "cell_type": "code",
   "execution_count": 170,
   "id": "8e45540d",
   "metadata": {},
   "outputs": [
    {
     "data": {
      "text/html": [
       "<div>\n",
       "<style scoped>\n",
       "    .dataframe tbody tr th:only-of-type {\n",
       "        vertical-align: middle;\n",
       "    }\n",
       "\n",
       "    .dataframe tbody tr th {\n",
       "        vertical-align: top;\n",
       "    }\n",
       "\n",
       "    .dataframe thead th {\n",
       "        text-align: right;\n",
       "    }\n",
       "</style>\n",
       "<table border=\"1\" class=\"dataframe\">\n",
       "  <thead>\n",
       "    <tr style=\"text-align: right;\">\n",
       "      <th></th>\n",
       "      <th>대여일시</th>\n",
       "      <th>대여 대여소번호</th>\n",
       "      <th>대여 대여소명</th>\n",
       "      <th>반납일시</th>\n",
       "      <th>반납대여소번호</th>\n",
       "      <th>반납대여소명</th>\n",
       "      <th>이용시간</th>\n",
       "      <th>이용거리</th>\n",
       "      <th>대여날짜</th>\n",
       "      <th>대여시간</th>\n",
       "      <th>반납시간</th>\n",
       "      <th>대여요일</th>\n",
       "    </tr>\n",
       "  </thead>\n",
       "  <tbody>\n",
       "    <tr>\n",
       "      <th>45838</th>\n",
       "      <td>2021-01-01 01:05:49</td>\n",
       "      <td>207</td>\n",
       "      <td>여의나루역 1번출구 앞</td>\n",
       "      <td>2021-01-01 01:16:29</td>\n",
       "      <td>201</td>\n",
       "      <td>진미파라곤 앞</td>\n",
       "      <td>10.0</td>\n",
       "      <td>0.00</td>\n",
       "      <td>2021-01-01</td>\n",
       "      <td>1</td>\n",
       "      <td>1</td>\n",
       "      <td>Fri</td>\n",
       "    </tr>\n",
       "    <tr>\n",
       "      <th>45839</th>\n",
       "      <td>2021-01-01 04:28:45</td>\n",
       "      <td>207</td>\n",
       "      <td>여의나루역 1번출구 앞</td>\n",
       "      <td>2021-01-01 04:48:23</td>\n",
       "      <td>493</td>\n",
       "      <td>홍대입구역 6번출구</td>\n",
       "      <td>19.0</td>\n",
       "      <td>0.00</td>\n",
       "      <td>2021-01-01</td>\n",
       "      <td>4</td>\n",
       "      <td>4</td>\n",
       "      <td>Fri</td>\n",
       "    </tr>\n",
       "    <tr>\n",
       "      <th>45840</th>\n",
       "      <td>2021-01-01 09:39:23</td>\n",
       "      <td>207</td>\n",
       "      <td>여의나루역 1번출구 앞</td>\n",
       "      <td>2021-01-01 09:45:33</td>\n",
       "      <td>223</td>\n",
       "      <td>진주아파트상가 앞</td>\n",
       "      <td>6.0</td>\n",
       "      <td>877.23</td>\n",
       "      <td>2021-01-01</td>\n",
       "      <td>9</td>\n",
       "      <td>9</td>\n",
       "      <td>Fri</td>\n",
       "    </tr>\n",
       "    <tr>\n",
       "      <th>45841</th>\n",
       "      <td>2021-01-01 10:50:10</td>\n",
       "      <td>207</td>\n",
       "      <td>여의나루역 1번출구 앞</td>\n",
       "      <td>2021-01-01 11:17:49</td>\n",
       "      <td>207</td>\n",
       "      <td>여의나루역 1번출구 앞</td>\n",
       "      <td>27.0</td>\n",
       "      <td>0.00</td>\n",
       "      <td>2021-01-01</td>\n",
       "      <td>10</td>\n",
       "      <td>11</td>\n",
       "      <td>Fri</td>\n",
       "    </tr>\n",
       "    <tr>\n",
       "      <th>45842</th>\n",
       "      <td>2021-01-01 11:01:44</td>\n",
       "      <td>207</td>\n",
       "      <td>여의나루역 1번출구 앞</td>\n",
       "      <td>2021-01-01 11:19:02</td>\n",
       "      <td>207</td>\n",
       "      <td>여의나루역 1번출구 앞</td>\n",
       "      <td>17.0</td>\n",
       "      <td>0.00</td>\n",
       "      <td>2021-01-01</td>\n",
       "      <td>11</td>\n",
       "      <td>11</td>\n",
       "      <td>Fri</td>\n",
       "    </tr>\n",
       "  </tbody>\n",
       "</table>\n",
       "</div>"
      ],
      "text/plain": [
       "                     대여일시 대여 대여소번호       대여 대여소명                반납일시 반납대여소번호  \\\n",
       "45838 2021-01-01 01:05:49      207  여의나루역 1번출구 앞 2021-01-01 01:16:29     201   \n",
       "45839 2021-01-01 04:28:45      207  여의나루역 1번출구 앞 2021-01-01 04:48:23     493   \n",
       "45840 2021-01-01 09:39:23      207  여의나루역 1번출구 앞 2021-01-01 09:45:33     223   \n",
       "45841 2021-01-01 10:50:10      207  여의나루역 1번출구 앞 2021-01-01 11:17:49     207   \n",
       "45842 2021-01-01 11:01:44      207  여의나루역 1번출구 앞 2021-01-01 11:19:02     207   \n",
       "\n",
       "             반납대여소명  이용시간    이용거리        대여날짜  대여시간  반납시간 대여요일  \n",
       "45838       진미파라곤 앞  10.0    0.00  2021-01-01     1     1  Fri  \n",
       "45839    홍대입구역 6번출구  19.0    0.00  2021-01-01     4     4  Fri  \n",
       "45840     진주아파트상가 앞   6.0  877.23  2021-01-01     9     9  Fri  \n",
       "45841  여의나루역 1번출구 앞  27.0    0.00  2021-01-01    10    11  Fri  \n",
       "45842  여의나루역 1번출구 앞  17.0    0.00  2021-01-01    11    11  Fri  "
      ]
     },
     "execution_count": 170,
     "metadata": {},
     "output_type": "execute_result"
    }
   ],
   "source": [
    "df_207.head()"
   ]
  },
  {
   "cell_type": "code",
   "execution_count": 172,
   "id": "cba9b33d",
   "metadata": {},
   "outputs": [
    {
     "data": {
      "text/plain": [
       "Sun    14454\n",
       "Sat    10932\n",
       "Wed    10755\n",
       "Fri     9191\n",
       "Mon     8391\n",
       "Thu     8037\n",
       "Tue     7235\n",
       "Name: 대여요일, dtype: int64"
      ]
     },
     "execution_count": 172,
     "metadata": {},
     "output_type": "execute_result"
    }
   ],
   "source": [
    "df_207['대여요일'].value_counts()"
   ]
  },
  {
   "cell_type": "code",
   "execution_count": 174,
   "id": "0cde671a",
   "metadata": {},
   "outputs": [
    {
     "data": {
      "text/plain": [
       "50.28551344300312"
      ]
     },
     "execution_count": 174,
     "metadata": {},
     "output_type": "execute_result"
    }
   ],
   "source": [
    "# df_207 기본통계 이용시간 (평균,최대,최소값)\n",
    "# 전체데이터의 평균\n",
    "df_207['이용시간'].mean()"
   ]
  },
  {
   "cell_type": "code",
   "execution_count": 176,
   "id": "2719b1d5",
   "metadata": {},
   "outputs": [
    {
     "data": {
      "text/plain": [
       "1.0"
      ]
     },
     "execution_count": 176,
     "metadata": {},
     "output_type": "execute_result"
    }
   ],
   "source": [
    "df_207['이용시간'].min()"
   ]
  },
  {
   "cell_type": "code",
   "execution_count": 177,
   "id": "03284526",
   "metadata": {},
   "outputs": [
    {
     "data": {
      "text/plain": [
       "1268.0"
      ]
     },
     "execution_count": 177,
     "metadata": {},
     "output_type": "execute_result"
    }
   ],
   "source": [
    "df_207['이용시간'].max()"
   ]
  },
  {
   "cell_type": "code",
   "execution_count": 178,
   "id": "02a4f371",
   "metadata": {},
   "outputs": [
    {
     "data": {
      "text/plain": [
       "27.27823322905529"
      ]
     },
     "execution_count": 178,
     "metadata": {},
     "output_type": "execute_result"
    }
   ],
   "source": [
    "df['이용시간'].mean()"
   ]
  }
 ],
 "metadata": {
  "kernelspec": {
   "display_name": "Python 3 (ipykernel)",
   "language": "python",
   "name": "python3"
  },
  "language_info": {
   "codemirror_mode": {
    "name": "ipython",
    "version": 3
   },
   "file_extension": ".py",
   "mimetype": "text/x-python",
   "name": "python",
   "nbconvert_exporter": "python",
   "pygments_lexer": "ipython3",
   "version": "3.8.7"
  }
 },
 "nbformat": 4,
 "nbformat_minor": 5
}
