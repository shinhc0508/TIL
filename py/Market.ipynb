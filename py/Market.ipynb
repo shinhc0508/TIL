{
 "cells": [
  {
   "cell_type": "code",
   "execution_count": 1,
   "id": "8d3af0cd",
   "metadata": {},
   "outputs": [],
   "source": [
    "import numpy as np\n",
    "import pandas as pd\n",
    "from matplotlib import font_manager , rc\n",
    "import matplotlib.pyplot as plt\n",
    "import matplotlib as mpl\n",
    "\n",
    "mpl.rcParams['axes.unicode_minus']=False\n",
    "plt.rc('font',family='Malgun Gothic')"
   ]
  },
  {
   "cell_type": "code",
   "execution_count": 75,
   "id": "f438b818",
   "metadata": {},
   "outputs": [],
   "source": [
    "df = pd.read_csv('./생필품 농수축산물 가격 정보(2021년1월_6월).csv', \n",
    "                 encoding='cp949',low_memory=False)"
   ]
  },
  {
   "cell_type": "code",
   "execution_count": 5,
   "id": "43796af6",
   "metadata": {},
   "outputs": [
    {
     "name": "stdout",
     "output_type": "stream",
     "text": [
      "<class 'pandas.core.frame.DataFrame'>\n",
      "RangeIndex: 42699 entries, 0 to 42698\n",
      "Data columns (total 14 columns):\n",
      " #   Column             Non-Null Count  Dtype \n",
      "---  ------             --------------  ----- \n",
      " 0   일련번호               42699 non-null  int64 \n",
      " 1   시장/마트 번호           42699 non-null  int64 \n",
      " 2   시장/마트 이름           42699 non-null  object\n",
      " 3   품목 번호              42699 non-null  int64 \n",
      " 4   품목 이름              42699 non-null  object\n",
      " 5   실판매규격              42699 non-null  object\n",
      " 6   가격(원)              42699 non-null  int64 \n",
      " 7   년도-월               42699 non-null  object\n",
      " 8   비고                 42425 non-null  object\n",
      " 9   시장유형 구분(시장/마트) 코드  42699 non-null  int64 \n",
      " 10  시장유형 구분(시장/마트) 이름  42699 non-null  object\n",
      " 11  자치구 코드             42699 non-null  int64 \n",
      " 12  자치구 이름             42699 non-null  object\n",
      " 13  점검일자               42699 non-null  object\n",
      "dtypes: int64(6), object(8)\n",
      "memory usage: 4.6+ MB\n"
     ]
    }
   ],
   "source": [
    "df.info()"
   ]
  },
  {
   "cell_type": "code",
   "execution_count": 7,
   "id": "51c67399",
   "metadata": {},
   "outputs": [
    {
     "data": {
      "text/plain": [
       "일련번호                   0\n",
       "시장/마트 번호               0\n",
       "시장/마트 이름               0\n",
       "품목 번호                  0\n",
       "품목 이름                  0\n",
       "실판매규격                  0\n",
       "가격(원)                  0\n",
       "년도-월                   0\n",
       "비고                   274\n",
       "시장유형 구분(시장/마트) 코드      0\n",
       "시장유형 구분(시장/마트) 이름      0\n",
       "자치구 코드                 0\n",
       "자치구 이름                 0\n",
       "점검일자                   0\n",
       "dtype: int64"
      ]
     },
     "execution_count": 7,
     "metadata": {},
     "output_type": "execute_result"
    }
   ],
   "source": [
    "df.isna().sum()"
   ]
  },
  {
   "cell_type": "code",
   "execution_count": 10,
   "id": "02b5eb45",
   "metadata": {},
   "outputs": [
    {
     "data": {
      "text/plain": [
       "102"
      ]
     },
     "execution_count": 10,
     "metadata": {},
     "output_type": "execute_result"
    }
   ],
   "source": [
    "# df.dropna(inplace=True)\n",
    "df['시장/마트 번호'].nunique()"
   ]
  },
  {
   "cell_type": "code",
   "execution_count": 11,
   "id": "6254e3b9",
   "metadata": {},
   "outputs": [
    {
     "data": {
      "text/plain": [
       "array(['신세계백화점', '방배종합시장', '통인시장', '방학동도깨비시장', '이마트 용산점', '용문시장',\n",
       "       'NC백화점 불광점', '관악신사시장(신림4동)', '영천시장', '고척근린시장', '이마트 여의도점',\n",
       "       '현대백화점 미아점', '롯데백화점', '이마트 가양점', '홈플러스 동대문점', '송화시장', '영등포전통시장',\n",
       "       '홈플러스 등촌점', '후암시장', '경동시장', '롯데마트 강변점', '롯데백화점 노원점', '롯데백화점 청량리점',\n",
       "       '홈플러스 영등포점', '우림시장', '청량리종합시장', '농협 하나로마트 용산점', '이마트 자양점',\n",
       "       '롯데백화점 미아점', '자양골목시장', '수유재래시장', '홈플러스 중계점', '금남시장', '인왕시장',\n",
       "       '원당종합시장', '목3동시장', '신영시장', '이마트 왕십리점', '뉴코아아울렛 강남점', '망원시장',\n",
       "       '마천중앙시장', '신세계백화점 강남점', '롯데백화점 영등포점', '남성시장', '마포농수산물시장',\n",
       "       '이마트 창동점', '공릉동 도깨비시장', '홈플러스 면목점', '이마트 청계점', '이마트 성수점',\n",
       "       '홈플러스 방학점', '이마트 역삼점', '남구로시장', '이마트 은평점', '뚝도시장', '롯데백화점 강남점',\n",
       "       '노룬산골목시장', '현대백화점 신촌점', '홈플러스 목동점', '태평백화점', '대조시장', '남문시장',\n",
       "       '광장시장', '대림중앙시장', '남대문시장', '하나로클럽 양재점', '현대시장', '상계중앙시장',\n",
       "       '농협하나로마트 신촌점', '이마트 신도림점', '신창시장', '롯데백화점 잠실점', '이마트 목동점',\n",
       "       '홈플러스 잠실점', '대림시장', '홈플러스 시흥점', '암사종합시장', '이마트 상봉점', '숭인시장',\n",
       "       '둔촌역전통시장', '홈플러스 월드컵점', '도곡시장', '신원시장(신림1동)', '돈암제일시장', '청담삼익시장',\n",
       "       '롯데백화점 관악점', '세이브 마트', '화곡본동시장', '롯데마트 서울역점', '방이시장', '장위골목시장',\n",
       "       '롯데슈퍼', '이마트 미아점', '이마트 명일점', '홈플러스 강동점', '서울중앙시장', '홈플러스 독산점',\n",
       "       '동원시장', '하나로클럽 미아점', 'NC백화점 신구로점', '이마트 에브리데이 창동점', '롯데마트 구로점'],\n",
       "      dtype=object)"
      ]
     },
     "execution_count": 11,
     "metadata": {},
     "output_type": "execute_result"
    }
   ],
   "source": [
    "df['시장/마트 이름'].unique()"
   ]
  },
  {
   "cell_type": "code",
   "execution_count": 76,
   "id": "51e9b180",
   "metadata": {},
   "outputs": [],
   "source": [
    "#시장/마트 목록\n",
    "df_market = df[['시장/마트 번호','시장/마트 이름','자치구 이름',\n",
    "                '시장유형 구분(시장/마트) 이름']].drop_duplicates()"
   ]
  },
  {
   "cell_type": "code",
   "execution_count": 15,
   "id": "66bee09f",
   "metadata": {},
   "outputs": [
    {
     "data": {
      "text/plain": [
       "중구      6\n",
       "도봉구     5\n",
       "관악구     5\n",
       "구로구     5\n",
       "영등포구    5\n",
       "노원구     4\n",
       "금천구     4\n",
       "강남구     4\n",
       "송파구     4\n",
       "마포구     4\n",
       "양천구     4\n",
       "성동구     4\n",
       "강북구     4\n",
       "중랑구     4\n",
       "동대문구    4\n",
       "광진구     4\n",
       "서초구     4\n",
       "강서구     4\n",
       "성북구     4\n",
       "서대문구    4\n",
       "은평구     4\n",
       "용산구     4\n",
       "강동구     4\n",
       "동작구     2\n",
       "종로구     2\n",
       "Name: 자치구 이름, dtype: int64"
      ]
     },
     "execution_count": 15,
     "metadata": {},
     "output_type": "execute_result"
    }
   ],
   "source": [
    "#자치구별 시장/마트 갯수\n",
    "df_market['자치구 이름'].value_counts()"
   ]
  },
  {
   "cell_type": "code",
   "execution_count": 17,
   "id": "7960e3c0",
   "metadata": {},
   "outputs": [
    {
     "data": {
      "text/html": [
       "<div>\n",
       "<style scoped>\n",
       "    .dataframe tbody tr th:only-of-type {\n",
       "        vertical-align: middle;\n",
       "    }\n",
       "\n",
       "    .dataframe tbody tr th {\n",
       "        vertical-align: top;\n",
       "    }\n",
       "\n",
       "    .dataframe thead th {\n",
       "        text-align: right;\n",
       "    }\n",
       "</style>\n",
       "<table border=\"1\" class=\"dataframe\">\n",
       "  <thead>\n",
       "    <tr style=\"text-align: right;\">\n",
       "      <th></th>\n",
       "      <th>시장/마트 번호</th>\n",
       "      <th>시장/마트 이름</th>\n",
       "      <th>자치구 이름</th>\n",
       "      <th>시장유형 구분(시장/마트) 이름</th>\n",
       "    </tr>\n",
       "  </thead>\n",
       "  <tbody>\n",
       "    <tr>\n",
       "      <th>0</th>\n",
       "      <td>2</td>\n",
       "      <td>신세계백화점</td>\n",
       "      <td>중구</td>\n",
       "      <td>대형마트</td>\n",
       "    </tr>\n",
       "    <tr>\n",
       "      <th>21</th>\n",
       "      <td>56</td>\n",
       "      <td>롯데백화점</td>\n",
       "      <td>중구</td>\n",
       "      <td>대형마트</td>\n",
       "    </tr>\n",
       "    <tr>\n",
       "      <th>257</th>\n",
       "      <td>60</td>\n",
       "      <td>이마트 청계점</td>\n",
       "      <td>중구</td>\n",
       "      <td>대형마트</td>\n",
       "    </tr>\n",
       "    <tr>\n",
       "      <th>576</th>\n",
       "      <td>11</td>\n",
       "      <td>남대문시장</td>\n",
       "      <td>중구</td>\n",
       "      <td>전통시장</td>\n",
       "    </tr>\n",
       "    <tr>\n",
       "      <th>3799</th>\n",
       "      <td>8</td>\n",
       "      <td>롯데마트 서울역점</td>\n",
       "      <td>중구</td>\n",
       "      <td>대형마트</td>\n",
       "    </tr>\n",
       "    <tr>\n",
       "      <th>4920</th>\n",
       "      <td>199</td>\n",
       "      <td>서울중앙시장</td>\n",
       "      <td>중구</td>\n",
       "      <td>전통시장</td>\n",
       "    </tr>\n",
       "  </tbody>\n",
       "</table>\n",
       "</div>"
      ],
      "text/plain": [
       "      시장/마트 번호   시장/마트 이름 자치구 이름 시장유형 구분(시장/마트) 이름\n",
       "0            2     신세계백화점     중구              대형마트\n",
       "21          56      롯데백화점     중구              대형마트\n",
       "257         60    이마트 청계점     중구              대형마트\n",
       "576         11      남대문시장     중구              전통시장\n",
       "3799         8  롯데마트 서울역점     중구              대형마트\n",
       "4920       199     서울중앙시장     중구              전통시장"
      ]
     },
     "execution_count": 17,
     "metadata": {},
     "output_type": "execute_result"
    }
   ],
   "source": [
    "# 자치구 이름으로 시장/마트 확인\n",
    "df_market[df_market['자치구 이름'] == '중구']"
   ]
  },
  {
   "cell_type": "code",
   "execution_count": 22,
   "id": "98fca6ab",
   "metadata": {},
   "outputs": [
    {
     "data": {
      "text/html": [
       "<div>\n",
       "<style scoped>\n",
       "    .dataframe tbody tr th:only-of-type {\n",
       "        vertical-align: middle;\n",
       "    }\n",
       "\n",
       "    .dataframe tbody tr th {\n",
       "        vertical-align: top;\n",
       "    }\n",
       "\n",
       "    .dataframe thead th {\n",
       "        text-align: right;\n",
       "    }\n",
       "</style>\n",
       "<table border=\"1\" class=\"dataframe\">\n",
       "  <thead>\n",
       "    <tr style=\"text-align: right;\">\n",
       "      <th></th>\n",
       "      <th>품목 번호</th>\n",
       "      <th>품목 이름</th>\n",
       "    </tr>\n",
       "  </thead>\n",
       "  <tbody>\n",
       "    <tr>\n",
       "      <th>1550</th>\n",
       "      <td>318</td>\n",
       "      <td>고등어(30cm,수입산)</td>\n",
       "    </tr>\n",
       "    <tr>\n",
       "      <th>1820</th>\n",
       "      <td>284</td>\n",
       "      <td>배(중품)</td>\n",
       "    </tr>\n",
       "    <tr>\n",
       "      <th>1898</th>\n",
       "      <td>118</td>\n",
       "      <td>호박(인큐베이터),중간</td>\n",
       "    </tr>\n",
       "    <tr>\n",
       "      <th>2191</th>\n",
       "      <td>272</td>\n",
       "      <td>양파(작은망)</td>\n",
       "    </tr>\n",
       "    <tr>\n",
       "      <th>2432</th>\n",
       "      <td>274</td>\n",
       "      <td>무(세척무, 중)</td>\n",
       "    </tr>\n",
       "    <tr>\n",
       "      <th>2457</th>\n",
       "      <td>265</td>\n",
       "      <td>명태(생물,수입산)</td>\n",
       "    </tr>\n",
       "    <tr>\n",
       "      <th>2466</th>\n",
       "      <td>175</td>\n",
       "      <td>배추(중간)</td>\n",
       "    </tr>\n",
       "    <tr>\n",
       "      <th>2567</th>\n",
       "      <td>255</td>\n",
       "      <td>오징어(생물,수입산)</td>\n",
       "    </tr>\n",
       "    <tr>\n",
       "      <th>2620</th>\n",
       "      <td>54</td>\n",
       "      <td>오징어(냉동)</td>\n",
       "    </tr>\n",
       "    <tr>\n",
       "      <th>3706</th>\n",
       "      <td>313</td>\n",
       "      <td>냉동참조기(20cm,수입)</td>\n",
       "    </tr>\n",
       "    <tr>\n",
       "      <th>3984</th>\n",
       "      <td>314</td>\n",
       "      <td>냉동참조기(20cm,국산)</td>\n",
       "    </tr>\n",
       "    <tr>\n",
       "      <th>4268</th>\n",
       "      <td>248</td>\n",
       "      <td>배(신고),중급(대)</td>\n",
       "    </tr>\n",
       "    <tr>\n",
       "      <th>4556</th>\n",
       "      <td>244</td>\n",
       "      <td>사과(부사),중급(대)</td>\n",
       "    </tr>\n",
       "    <tr>\n",
       "      <th>4802</th>\n",
       "      <td>237</td>\n",
       "      <td>사과(부사),중급(대)</td>\n",
       "    </tr>\n",
       "    <tr>\n",
       "      <th>4834</th>\n",
       "      <td>269</td>\n",
       "      <td>고등어(냉동,수입산)</td>\n",
       "    </tr>\n",
       "    <tr>\n",
       "      <th>5280</th>\n",
       "      <td>181</td>\n",
       "      <td>달걀(왕란)</td>\n",
       "    </tr>\n",
       "    <tr>\n",
       "      <th>5348</th>\n",
       "      <td>135</td>\n",
       "      <td>조기(중국산,생물)</td>\n",
       "    </tr>\n",
       "    <tr>\n",
       "      <th>6813</th>\n",
       "      <td>257</td>\n",
       "      <td>오징어(냉동,수입산)</td>\n",
       "    </tr>\n",
       "    <tr>\n",
       "      <th>15781</th>\n",
       "      <td>316</td>\n",
       "      <td>고등어(30cm,국산)</td>\n",
       "    </tr>\n",
       "    <tr>\n",
       "      <th>18573</th>\n",
       "      <td>134</td>\n",
       "      <td>달걀(왕란)</td>\n",
       "    </tr>\n",
       "    <tr>\n",
       "      <th>19167</th>\n",
       "      <td>263</td>\n",
       "      <td>명태(냉동,국산)</td>\n",
       "    </tr>\n",
       "  </tbody>\n",
       "</table>\n",
       "</div>"
      ],
      "text/plain": [
       "       품목 번호           품목 이름\n",
       "1550     318   고등어(30cm,수입산)\n",
       "1820     284           배(중품)\n",
       "1898     118    호박(인큐베이터),중간\n",
       "2191     272         양파(작은망)\n",
       "2432     274       무(세척무, 중)\n",
       "2457     265      명태(생물,수입산)\n",
       "2466     175          배추(중간)\n",
       "2567     255     오징어(생물,수입산)\n",
       "2620      54         오징어(냉동)\n",
       "3706     313  냉동참조기(20cm,수입)\n",
       "3984     314  냉동참조기(20cm,국산)\n",
       "4268     248     배(신고),중급(대)\n",
       "4556     244    사과(부사),중급(대)\n",
       "4802     237    사과(부사),중급(대)\n",
       "4834     269     고등어(냉동,수입산)\n",
       "5280     181          달걀(왕란)\n",
       "5348     135      조기(중국산,생물)\n",
       "6813     257     오징어(냉동,수입산)\n",
       "15781    316    고등어(30cm,국산)\n",
       "18573    134          달걀(왕란)\n",
       "19167    263       명태(냉동,국산)"
      ]
     },
     "execution_count": 22,
     "metadata": {},
     "output_type": "execute_result"
    }
   ],
   "source": [
    "#물품 목록\n",
    "df_items = df[['품목 번호', '품목 이름']].drop_duplicates()\n",
    "df_items[60:]"
   ]
  },
  {
   "cell_type": "code",
   "execution_count": 26,
   "id": "508db2ab",
   "metadata": {},
   "outputs": [
    {
     "data": {
      "text/plain": [
       "(25, 2)"
      ]
     },
     "execution_count": 26,
     "metadata": {},
     "output_type": "execute_result"
    }
   ],
   "source": [
    "df_gu = df[['자치구 코드', '자치구 이름']].drop_duplicates()\n",
    "df_gu.shape"
   ]
  },
  {
   "cell_type": "code",
   "execution_count": 28,
   "id": "3b62b315",
   "metadata": {},
   "outputs": [
    {
     "data": {
      "text/html": [
       "<div>\n",
       "<style scoped>\n",
       "    .dataframe tbody tr th:only-of-type {\n",
       "        vertical-align: middle;\n",
       "    }\n",
       "\n",
       "    .dataframe tbody tr th {\n",
       "        vertical-align: top;\n",
       "    }\n",
       "\n",
       "    .dataframe thead th {\n",
       "        text-align: right;\n",
       "    }\n",
       "</style>\n",
       "<table border=\"1\" class=\"dataframe\">\n",
       "  <thead>\n",
       "    <tr style=\"text-align: right;\">\n",
       "      <th></th>\n",
       "      <th>시장유형 구분(시장/마트) 코드</th>\n",
       "      <th>시장유형 구분(시장/마트) 이름</th>\n",
       "    </tr>\n",
       "  </thead>\n",
       "  <tbody>\n",
       "    <tr>\n",
       "      <th>0</th>\n",
       "      <td>2</td>\n",
       "      <td>대형마트</td>\n",
       "    </tr>\n",
       "    <tr>\n",
       "      <th>1</th>\n",
       "      <td>1</td>\n",
       "      <td>전통시장</td>\n",
       "    </tr>\n",
       "  </tbody>\n",
       "</table>\n",
       "</div>"
      ],
      "text/plain": [
       "   시장유형 구분(시장/마트) 코드 시장유형 구분(시장/마트) 이름\n",
       "0                  2              대형마트\n",
       "1                  1              전통시장"
      ]
     },
     "execution_count": 28,
     "metadata": {},
     "output_type": "execute_result"
    }
   ],
   "source": [
    "#시장유형\n",
    "df[['시장유형 구분(시장/마트) 코드',\n",
    "    '시장유형 구분(시장/마트) 이름']].drop_duplicates()"
   ]
  },
  {
   "cell_type": "code",
   "execution_count": 77,
   "id": "fb271e2e",
   "metadata": {},
   "outputs": [],
   "source": [
    "#삼격살의 가격 분석\n",
    "#특정 문자열이 포함되어 있는지 확인 .str.contains(문자열)\n",
    "#2021-06 \n",
    "df_3= df[(df['품목 이름'].str.contains('삼겹살'))&\n",
    "         (df['년도-월']=='2021-06') & \n",
    "         (df['실판매규격'].str.contains('600g'))]\n"
   ]
  },
  {
   "cell_type": "code",
   "execution_count": 34,
   "id": "7a03035d",
   "metadata": {},
   "outputs": [
    {
     "data": {
      "text/plain": [
       "(224, 14)"
      ]
     },
     "execution_count": 34,
     "metadata": {},
     "output_type": "execute_result"
    }
   ],
   "source": [
    "df_3.shape"
   ]
  },
  {
   "cell_type": "code",
   "execution_count": 45,
   "id": "2b982bcf",
   "metadata": {},
   "outputs": [
    {
     "data": {
      "text/plain": [
       "16842.723214285714"
      ]
     },
     "execution_count": 45,
     "metadata": {},
     "output_type": "execute_result"
    }
   ],
   "source": [
    "#삼겹살 가격의 평균\n",
    "df_3['가격(원)'].mean()"
   ]
  },
  {
   "cell_type": "code",
   "execution_count": 46,
   "id": "c1ebf48d",
   "metadata": {},
   "outputs": [],
   "source": [
    "#최대값\n",
    "df_3['가격(원)'].max()"
   ]
  },
  {
   "cell_type": "code",
   "execution_count": 47,
   "id": "41d7c3f6",
   "metadata": {},
   "outputs": [],
   "source": [
    "#조건 : 5000원이하인 시정/마트이름"
   ]
  },
  {
   "cell_type": "code",
   "execution_count": 48,
   "id": "a7d15463",
   "metadata": {},
   "outputs": [
    {
     "data": {
      "text/plain": [
       "1690"
      ]
     },
     "execution_count": 48,
     "metadata": {},
     "output_type": "execute_result"
    }
   ],
   "source": [
    "#최저가\n",
    "df_3['가격(원)'].min()"
   ]
  },
  {
   "cell_type": "code",
   "execution_count": 50,
   "id": "fa286c27",
   "metadata": {},
   "outputs": [],
   "source": [
    "df3 = df_3[df_3['가격(원)'] <= 5000]"
   ]
  },
  {
   "cell_type": "code",
   "execution_count": 54,
   "id": "9549fad4",
   "metadata": {},
   "outputs": [
    {
     "data": {
      "text/html": [
       "<div>\n",
       "<style scoped>\n",
       "    .dataframe tbody tr th:only-of-type {\n",
       "        vertical-align: middle;\n",
       "    }\n",
       "\n",
       "    .dataframe tbody tr th {\n",
       "        vertical-align: top;\n",
       "    }\n",
       "\n",
       "    .dataframe thead th {\n",
       "        text-align: right;\n",
       "    }\n",
       "</style>\n",
       "<table border=\"1\" class=\"dataframe\">\n",
       "  <thead>\n",
       "    <tr style=\"text-align: right;\">\n",
       "      <th></th>\n",
       "      <th>가격(원)</th>\n",
       "      <th>시장/마트 이름</th>\n",
       "    </tr>\n",
       "  </thead>\n",
       "  <tbody>\n",
       "    <tr>\n",
       "      <th>3645</th>\n",
       "      <td>2720</td>\n",
       "      <td>이마트 창동점</td>\n",
       "    </tr>\n",
       "    <tr>\n",
       "      <th>4052</th>\n",
       "      <td>1690</td>\n",
       "      <td>홈플러스 방학점</td>\n",
       "    </tr>\n",
       "  </tbody>\n",
       "</table>\n",
       "</div>"
      ],
      "text/plain": [
       "      가격(원)  시장/마트 이름\n",
       "3645   2720   이마트 창동점\n",
       "4052   1690  홈플러스 방학점"
      ]
     },
     "execution_count": 54,
     "metadata": {},
     "output_type": "execute_result"
    }
   ],
   "source": [
    "df3[['가격(원)','시장/마트 이름']]"
   ]
  },
  {
   "cell_type": "code",
   "execution_count": 79,
   "id": "f6c6d4fe",
   "metadata": {},
   "outputs": [
    {
     "name": "stdout",
     "output_type": "stream",
     "text": [
      "구이름: 마포구\n"
     ]
    }
   ],
   "source": [
    "# 우리동네 삼겹살 가격\n",
    "gu = input('구이름: ')\n",
    "df_3gu = df_3[df_3['자치구 이름']== gu][['시장/마트 이름', '품목 이름', \n",
    "          '실판매규격', '가격(원)']].drop_duplicates()\n"
   ]
  },
  {
   "cell_type": "code",
   "execution_count": 80,
   "id": "790bdbb9",
   "metadata": {},
   "outputs": [
    {
     "data": {
      "image/png": "[encoded data removed]",
      "text/plain": [
       "<Figure size 640x480 with 1 Axes>"
      ]
     },
     "metadata": {},
     "output_type": "display_data"
    }
   ],
   "source": [
    "#시각화\n",
    "x=df_3gu['시장/마트 이름']\n",
    "y=df_3gu['가격(원)']\n",
    "plt.scatter(x,y)\n",
    "plt.title(gu+' 삼겹살가격')\n",
    "plt.grid()\n",
    "plt.show()\n"
   ]
  },
  {
   "cell_type": "code",
   "execution_count": 85,
   "id": "3ae6d97b",
   "metadata": {},
   "outputs": [
    {
     "name": "stdout",
     "output_type": "stream",
     "text": [
      "시장/마트이름 :백화점\n"
     ]
    },
    {
     "data": {
      "text/html": [
       "<div>\n",
       "<style scoped>\n",
       "    .dataframe tbody tr th:only-of-type {\n",
       "        vertical-align: middle;\n",
       "    }\n",
       "\n",
       "    .dataframe tbody tr th {\n",
       "        vertical-align: top;\n",
       "    }\n",
       "\n",
       "    .dataframe thead th {\n",
       "        text-align: right;\n",
       "    }\n",
       "</style>\n",
       "<table border=\"1\" class=\"dataframe\">\n",
       "  <thead>\n",
       "    <tr style=\"text-align: right;\">\n",
       "      <th></th>\n",
       "      <th>시장/마트 이름</th>\n",
       "      <th>품목 이름</th>\n",
       "      <th>실판매규격</th>\n",
       "      <th>가격(원)</th>\n",
       "    </tr>\n",
       "  </thead>\n",
       "  <tbody>\n",
       "    <tr>\n",
       "      <th>22</th>\n",
       "      <td>현대백화점 미아점</td>\n",
       "      <td>돼지고기(생삼겹살)</td>\n",
       "      <td>600g (100g 4,280원)</td>\n",
       "      <td>25680</td>\n",
       "    </tr>\n",
       "    <tr>\n",
       "      <th>47</th>\n",
       "      <td>롯데백화점 노원점</td>\n",
       "      <td>돼지고기(생삼겹살)</td>\n",
       "      <td>600g</td>\n",
       "      <td>26940</td>\n",
       "    </tr>\n",
       "    <tr>\n",
       "      <th>457</th>\n",
       "      <td>현대백화점 신촌점</td>\n",
       "      <td>돼지고기(생삼겹살)</td>\n",
       "      <td>600g(1등급)</td>\n",
       "      <td>25700</td>\n",
       "    </tr>\n",
       "    <tr>\n",
       "      <th>2576</th>\n",
       "      <td>태평백화점</td>\n",
       "      <td>돼지고기(생삼겹살)</td>\n",
       "      <td>600g</td>\n",
       "      <td>21360</td>\n",
       "    </tr>\n",
       "    <tr>\n",
       "      <th>2617</th>\n",
       "      <td>태평백화점</td>\n",
       "      <td>돼지고기(생삼겹살)</td>\n",
       "      <td>600g</td>\n",
       "      <td>19000</td>\n",
       "    </tr>\n",
       "    <tr>\n",
       "      <th>2661</th>\n",
       "      <td>태평백화점</td>\n",
       "      <td>돼지고기(생삼겹살)</td>\n",
       "      <td>600g</td>\n",
       "      <td>23760</td>\n",
       "    </tr>\n",
       "    <tr>\n",
       "      <th>2681</th>\n",
       "      <td>태평백화점</td>\n",
       "      <td>돼지고기(생삼겹살)</td>\n",
       "      <td>600g</td>\n",
       "      <td>20160</td>\n",
       "    </tr>\n",
       "    <tr>\n",
       "      <th>2751</th>\n",
       "      <td>롯데백화점 영등포점</td>\n",
       "      <td>돼지고기(생삼겹살)</td>\n",
       "      <td>600g</td>\n",
       "      <td>27480</td>\n",
       "    </tr>\n",
       "    <tr>\n",
       "      <th>2989</th>\n",
       "      <td>롯데백화점 미아점</td>\n",
       "      <td>돼지고기(생삼겹살)</td>\n",
       "      <td>600g</td>\n",
       "      <td>15760</td>\n",
       "    </tr>\n",
       "    <tr>\n",
       "      <th>3013</th>\n",
       "      <td>롯데백화점 미아점</td>\n",
       "      <td>돼지고기(생삼겹살)</td>\n",
       "      <td>600g</td>\n",
       "      <td>20160</td>\n",
       "    </tr>\n",
       "    <tr>\n",
       "      <th>3212</th>\n",
       "      <td>롯데백화점 관악점</td>\n",
       "      <td>돼지고기(생삼겹살)</td>\n",
       "      <td>600g</td>\n",
       "      <td>22800</td>\n",
       "    </tr>\n",
       "    <tr>\n",
       "      <th>3231</th>\n",
       "      <td>롯데백화점 관악점</td>\n",
       "      <td>돼지고기(생삼겹살)</td>\n",
       "      <td>600g</td>\n",
       "      <td>14400</td>\n",
       "    </tr>\n",
       "    <tr>\n",
       "      <th>3956</th>\n",
       "      <td>롯데백화점 잠실점</td>\n",
       "      <td>돼지고기(생삼겹살)</td>\n",
       "      <td>600g</td>\n",
       "      <td>29880</td>\n",
       "    </tr>\n",
       "    <tr>\n",
       "      <th>4043</th>\n",
       "      <td>롯데백화점 잠실점</td>\n",
       "      <td>돼지고기(생삼겹살)</td>\n",
       "      <td>600g</td>\n",
       "      <td>35890</td>\n",
       "    </tr>\n",
       "    <tr>\n",
       "      <th>5584</th>\n",
       "      <td>현대백화점 신촌점</td>\n",
       "      <td>돼지고기(생삼겹살)</td>\n",
       "      <td>600g</td>\n",
       "      <td>25680</td>\n",
       "    </tr>\n",
       "  </tbody>\n",
       "</table>\n",
       "</div>"
      ],
      "text/plain": [
       "        시장/마트 이름       품목 이름               실판매규격  가격(원)\n",
       "22     현대백화점 미아점  돼지고기(생삼겹살)  600g (100g 4,280원)  25680\n",
       "47     롯데백화점 노원점  돼지고기(생삼겹살)                600g  26940\n",
       "457    현대백화점 신촌점  돼지고기(생삼겹살)           600g(1등급)  25700\n",
       "2576       태평백화점  돼지고기(생삼겹살)                600g  21360\n",
       "2617       태평백화점  돼지고기(생삼겹살)                600g  19000\n",
       "2661       태평백화점  돼지고기(생삼겹살)                600g  23760\n",
       "2681       태평백화점  돼지고기(생삼겹살)                600g  20160\n",
       "2751  롯데백화점 영등포점  돼지고기(생삼겹살)                600g  27480\n",
       "2989   롯데백화점 미아점  돼지고기(생삼겹살)                600g  15760\n",
       "3013   롯데백화점 미아점  돼지고기(생삼겹살)                600g  20160\n",
       "3212   롯데백화점 관악점  돼지고기(생삼겹살)                600g  22800\n",
       "3231   롯데백화점 관악점  돼지고기(생삼겹살)                600g  14400\n",
       "3956   롯데백화점 잠실점  돼지고기(생삼겹살)                600g  29880\n",
       "4043   롯데백화점 잠실점  돼지고기(생삼겹살)                600g  35890\n",
       "5584   현대백화점 신촌점  돼지고기(생삼겹살)                600g  25680"
      ]
     },
     "execution_count": 85,
     "metadata": {},
     "output_type": "execute_result"
    }
   ],
   "source": [
    "#마트 지점별 삼겹살 가격\n",
    "mart = input('시장/마트이름 :') # 입력 백화점\n",
    "#마트 지점별 삼겹살 가격\n",
    "df_mart=df_3[df_3['시장/마트 이름'].str.contains(mart)][['시장/마트 이름', '품목 이름', \n",
    "         '실판매규격', '가격(원)']].drop_duplicates()\n",
    "df_mart"
   ]
  },
  {
   "cell_type": "code",
   "execution_count": 86,
   "id": "1291a95d",
   "metadata": {},
   "outputs": [
    {
     "data": {
      "image/png": "[encoded data removed]",
      "text/plain": [
       "<Figure size 640x480 with 1 Axes>"
      ]
     },
     "metadata": {},
     "output_type": "display_data"
    }
   ],
   "source": [
    "x=df_mart['시장/마트 이름']\n",
    "y=df_mart['가격(원)']\n",
    "plt.scatter(x,y)\n",
    "plt.title(mart+' 삼겹살가격')\n",
    "plt.grid()\n",
    "plt.show()"
   ]
  },
  {
   "cell_type": "code",
   "execution_count": 138,
   "id": "6712e4ae",
   "metadata": {},
   "outputs": [],
   "source": [
    "df_egg=df[(df['품목 이름'].str.contains('달걀')) &\n",
    "          (df['년도-월']=='2021-06') &\n",
    "          (df['품목 이름'].str.contains('30'))]"
   ]
  },
  {
   "cell_type": "code",
   "execution_count": 139,
   "id": "57e1e135",
   "metadata": {},
   "outputs": [
    {
     "data": {
      "text/html": [
       "<div>\n",
       "<style scoped>\n",
       "    .dataframe tbody tr th:only-of-type {\n",
       "        vertical-align: middle;\n",
       "    }\n",
       "\n",
       "    .dataframe tbody tr th {\n",
       "        vertical-align: top;\n",
       "    }\n",
       "\n",
       "    .dataframe thead th {\n",
       "        text-align: right;\n",
       "    }\n",
       "</style>\n",
       "<table border=\"1\" class=\"dataframe\">\n",
       "  <thead>\n",
       "    <tr style=\"text-align: right;\">\n",
       "      <th></th>\n",
       "      <th>품목 번호</th>\n",
       "      <th>품목 이름</th>\n",
       "      <th>실판매규격</th>\n",
       "      <th>가격(원)</th>\n",
       "    </tr>\n",
       "  </thead>\n",
       "  <tbody>\n",
       "    <tr>\n",
       "      <th>11</th>\n",
       "      <td>320</td>\n",
       "      <td>달걀(30개)</td>\n",
       "      <td>1.8kg</td>\n",
       "      <td>9500</td>\n",
       "    </tr>\n",
       "    <tr>\n",
       "      <th>28</th>\n",
       "      <td>320</td>\n",
       "      <td>달걀(30개)</td>\n",
       "      <td>30개</td>\n",
       "      <td>0</td>\n",
       "    </tr>\n",
       "    <tr>\n",
       "      <th>43</th>\n",
       "      <td>320</td>\n",
       "      <td>달걀(30개)</td>\n",
       "      <td>30개</td>\n",
       "      <td>10800</td>\n",
       "    </tr>\n",
       "    <tr>\n",
       "      <th>52</th>\n",
       "      <td>320</td>\n",
       "      <td>달걀(30개)</td>\n",
       "      <td>30개</td>\n",
       "      <td>10500</td>\n",
       "    </tr>\n",
       "    <tr>\n",
       "      <th>62</th>\n",
       "      <td>320</td>\n",
       "      <td>달걀(30개)</td>\n",
       "      <td>30개(1800g)</td>\n",
       "      <td>6900</td>\n",
       "    </tr>\n",
       "    <tr>\n",
       "      <th>75</th>\n",
       "      <td>320</td>\n",
       "      <td>달걀(30개)</td>\n",
       "      <td>30개</td>\n",
       "      <td>10800</td>\n",
       "    </tr>\n",
       "    <tr>\n",
       "      <th>82</th>\n",
       "      <td>320</td>\n",
       "      <td>달걀(30개)</td>\n",
       "      <td>30개(1800g)</td>\n",
       "      <td>6900</td>\n",
       "    </tr>\n",
       "    <tr>\n",
       "      <th>99</th>\n",
       "      <td>320</td>\n",
       "      <td>달걀(30개)</td>\n",
       "      <td>1800g</td>\n",
       "      <td>12800</td>\n",
       "    </tr>\n",
       "    <tr>\n",
       "      <th>115</th>\n",
       "      <td>320</td>\n",
       "      <td>달걀(30개)</td>\n",
       "      <td>30개</td>\n",
       "      <td>7950</td>\n",
       "    </tr>\n",
       "    <tr>\n",
       "      <th>138</th>\n",
       "      <td>320</td>\n",
       "      <td>달걀(30개)</td>\n",
       "      <td>30개(1800g)</td>\n",
       "      <td>6900</td>\n",
       "    </tr>\n",
       "    <tr>\n",
       "      <th>152</th>\n",
       "      <td>320</td>\n",
       "      <td>달걀(30개)</td>\n",
       "      <td>30개(1800g)</td>\n",
       "      <td>6900</td>\n",
       "    </tr>\n",
       "    <tr>\n",
       "      <th>159</th>\n",
       "      <td>320</td>\n",
       "      <td>달걀(30개)</td>\n",
       "      <td>30개</td>\n",
       "      <td>8200</td>\n",
       "    </tr>\n",
       "    <tr>\n",
       "      <th>184</th>\n",
       "      <td>320</td>\n",
       "      <td>달걀(30개)</td>\n",
       "      <td>30개</td>\n",
       "      <td>7000</td>\n",
       "    </tr>\n",
       "    <tr>\n",
       "      <th>199</th>\n",
       "      <td>320</td>\n",
       "      <td>달걀(30개)</td>\n",
       "      <td>30개</td>\n",
       "      <td>8500</td>\n",
       "    </tr>\n",
       "    <tr>\n",
       "      <th>212</th>\n",
       "      <td>320</td>\n",
       "      <td>달걀(30개)</td>\n",
       "      <td>30구</td>\n",
       "      <td>7000</td>\n",
       "    </tr>\n",
       "    <tr>\n",
       "      <th>254</th>\n",
       "      <td>320</td>\n",
       "      <td>달걀(30개)</td>\n",
       "      <td>30개</td>\n",
       "      <td>7000</td>\n",
       "    </tr>\n",
       "    <tr>\n",
       "      <th>263</th>\n",
       "      <td>320</td>\n",
       "      <td>달걀(30개)</td>\n",
       "      <td>30개(특란)</td>\n",
       "      <td>7680</td>\n",
       "    </tr>\n",
       "    <tr>\n",
       "      <th>288</th>\n",
       "      <td>320</td>\n",
       "      <td>달걀(30개)</td>\n",
       "      <td>30구</td>\n",
       "      <td>7980</td>\n",
       "    </tr>\n",
       "    <tr>\n",
       "      <th>302</th>\n",
       "      <td>320</td>\n",
       "      <td>달걀(30개)</td>\n",
       "      <td>30개(1.5kg)</td>\n",
       "      <td>8000</td>\n",
       "    </tr>\n",
       "    <tr>\n",
       "      <th>315</th>\n",
       "      <td>320</td>\n",
       "      <td>달걀(30개)</td>\n",
       "      <td>30개</td>\n",
       "      <td>6800</td>\n",
       "    </tr>\n",
       "    <tr>\n",
       "      <th>348</th>\n",
       "      <td>320</td>\n",
       "      <td>달걀(30개)</td>\n",
       "      <td>특란1750g</td>\n",
       "      <td>8000</td>\n",
       "    </tr>\n",
       "    <tr>\n",
       "      <th>378</th>\n",
       "      <td>320</td>\n",
       "      <td>달걀(30개)</td>\n",
       "      <td>특란17500g</td>\n",
       "      <td>8000</td>\n",
       "    </tr>\n",
       "    <tr>\n",
       "      <th>414</th>\n",
       "      <td>320</td>\n",
       "      <td>달걀(30개)</td>\n",
       "      <td>30개(1.5kg)</td>\n",
       "      <td>75000</td>\n",
       "    </tr>\n",
       "    <tr>\n",
       "      <th>436</th>\n",
       "      <td>320</td>\n",
       "      <td>달걀(30개)</td>\n",
       "      <td>30개</td>\n",
       "      <td>12360</td>\n",
       "    </tr>\n",
       "    <tr>\n",
       "      <th>463</th>\n",
       "      <td>320</td>\n",
       "      <td>달걀(30개)</td>\n",
       "      <td>30구</td>\n",
       "      <td>9800</td>\n",
       "    </tr>\n",
       "    <tr>\n",
       "      <th>473</th>\n",
       "      <td>320</td>\n",
       "      <td>달걀(30개)</td>\n",
       "      <td>30개</td>\n",
       "      <td>10800</td>\n",
       "    </tr>\n",
       "    <tr>\n",
       "      <th>496</th>\n",
       "      <td>320</td>\n",
       "      <td>달걀(30개)</td>\n",
       "      <td>25개</td>\n",
       "      <td>7980</td>\n",
       "    </tr>\n",
       "    <tr>\n",
       "      <th>506</th>\n",
       "      <td>320</td>\n",
       "      <td>달걀(30개)</td>\n",
       "      <td>30갸</td>\n",
       "      <td>11560</td>\n",
       "    </tr>\n",
       "    <tr>\n",
       "      <th>531</th>\n",
       "      <td>320</td>\n",
       "      <td>달걀(30개)</td>\n",
       "      <td>30개</td>\n",
       "      <td>9000</td>\n",
       "    </tr>\n",
       "    <tr>\n",
       "      <th>534</th>\n",
       "      <td>320</td>\n",
       "      <td>달걀(30개)</td>\n",
       "      <td>30개(1800g)</td>\n",
       "      <td>8500</td>\n",
       "    </tr>\n",
       "  </tbody>\n",
       "</table>\n",
       "</div>"
      ],
      "text/plain": [
       "     품목 번호    품목 이름       실판매규격  가격(원)\n",
       "11     320  달걀(30개)       1.8kg   9500\n",
       "28     320  달걀(30개)         30개      0\n",
       "43     320  달걀(30개)         30개  10800\n",
       "52     320  달걀(30개)         30개  10500\n",
       "62     320  달걀(30개)  30개(1800g)   6900\n",
       "75     320  달걀(30개)         30개  10800\n",
       "82     320  달걀(30개)  30개(1800g)   6900\n",
       "99     320  달걀(30개)       1800g  12800\n",
       "115    320  달걀(30개)         30개   7950\n",
       "138    320  달걀(30개)  30개(1800g)   6900\n",
       "152    320  달걀(30개)  30개(1800g)   6900\n",
       "159    320  달걀(30개)         30개   8200\n",
       "184    320  달걀(30개)         30개   7000\n",
       "199    320  달걀(30개)         30개   8500\n",
       "212    320  달걀(30개)         30구   7000\n",
       "254    320  달걀(30개)         30개   7000\n",
       "263    320  달걀(30개)     30개(특란)   7680\n",
       "288    320  달걀(30개)         30구   7980\n",
       "302    320  달걀(30개)  30개(1.5kg)   8000\n",
       "315    320  달걀(30개)         30개   6800\n",
       "348    320  달걀(30개)     특란1750g   8000\n",
       "378    320  달걀(30개)    특란17500g   8000\n",
       "414    320  달걀(30개)  30개(1.5kg)  75000\n",
       "436    320  달걀(30개)         30개  12360\n",
       "463    320  달걀(30개)         30구   9800\n",
       "473    320  달걀(30개)         30개  10800\n",
       "496    320  달걀(30개)         25개   7980\n",
       "506    320  달걀(30개)         30갸  11560\n",
       "531    320  달걀(30개)         30개   9000\n",
       "534    320  달걀(30개)  30개(1800g)   8500"
      ]
     },
     "execution_count": 139,
     "metadata": {},
     "output_type": "execute_result"
    }
   ],
   "source": [
    "#달걀 분석 21-6 데이터 규격 : 30개\n",
    "df_items2 = df_egg[['품목 번호', '품목 이름','실판매규격', '가격(원)']]\n",
    "df_items2[:30]"
   ]
  },
  {
   "cell_type": "code",
   "execution_count": 140,
   "id": "caa6879c",
   "metadata": {},
   "outputs": [
    {
     "data": {
      "text/plain": [
       "9006.852713178294"
      ]
     },
     "execution_count": 140,
     "metadata": {},
     "output_type": "execute_result"
    }
   ],
   "source": [
    "df_items2['가격(원)'].mean()"
   ]
  },
  {
   "cell_type": "code",
   "execution_count": 141,
   "id": "45331be8",
   "metadata": {},
   "outputs": [
    {
     "data": {
      "text/plain": [
       "75000"
      ]
     },
     "execution_count": 141,
     "metadata": {},
     "output_type": "execute_result"
    }
   ],
   "source": [
    "df_items2['가격(원)'].max()"
   ]
  },
  {
   "cell_type": "code",
   "execution_count": 142,
   "id": "09f4f409",
   "metadata": {},
   "outputs": [
    {
     "data": {
      "text/plain": [
       "0"
      ]
     },
     "execution_count": 142,
     "metadata": {},
     "output_type": "execute_result"
    }
   ],
   "source": [
    "df_items2['가격(원)'].min()"
   ]
  },
  {
   "cell_type": "code",
   "execution_count": 143,
   "id": "97df484b",
   "metadata": {},
   "outputs": [],
   "source": [
    "df30 = df_egg[df_egg['가격(원)'] <= 6000]"
   ]
  },
  {
   "cell_type": "code",
   "execution_count": 144,
   "id": "2175e0ab",
   "metadata": {},
   "outputs": [
    {
     "data": {
      "text/html": [
       "<div>\n",
       "<style scoped>\n",
       "    .dataframe tbody tr th:only-of-type {\n",
       "        vertical-align: middle;\n",
       "    }\n",
       "\n",
       "    .dataframe tbody tr th {\n",
       "        vertical-align: top;\n",
       "    }\n",
       "\n",
       "    .dataframe thead th {\n",
       "        text-align: right;\n",
       "    }\n",
       "</style>\n",
       "<table border=\"1\" class=\"dataframe\">\n",
       "  <thead>\n",
       "    <tr style=\"text-align: right;\">\n",
       "      <th></th>\n",
       "      <th>가격(원)</th>\n",
       "      <th>시장/마트 이름</th>\n",
       "    </tr>\n",
       "  </thead>\n",
       "  <tbody>\n",
       "    <tr>\n",
       "      <th>28</th>\n",
       "      <td>0</td>\n",
       "      <td>현대백화점 미아점</td>\n",
       "    </tr>\n",
       "    <tr>\n",
       "      <th>1139</th>\n",
       "      <td>0</td>\n",
       "      <td>롯데백화점 청량리점</td>\n",
       "    </tr>\n",
       "    <tr>\n",
       "      <th>1477</th>\n",
       "      <td>5520</td>\n",
       "      <td>이마트 성수점</td>\n",
       "    </tr>\n",
       "    <tr>\n",
       "      <th>3953</th>\n",
       "      <td>0</td>\n",
       "      <td>롯데백화점 잠실점</td>\n",
       "    </tr>\n",
       "    <tr>\n",
       "      <th>3982</th>\n",
       "      <td>0</td>\n",
       "      <td>롯데백화점 잠실점</td>\n",
       "    </tr>\n",
       "    <tr>\n",
       "      <th>4049</th>\n",
       "      <td>0</td>\n",
       "      <td>롯데백화점 잠실점</td>\n",
       "    </tr>\n",
       "    <tr>\n",
       "      <th>4057</th>\n",
       "      <td>0</td>\n",
       "      <td>롯데백화점 잠실점</td>\n",
       "    </tr>\n",
       "    <tr>\n",
       "      <th>5002</th>\n",
       "      <td>0</td>\n",
       "      <td>롯데백화점 청량리점</td>\n",
       "    </tr>\n",
       "    <tr>\n",
       "      <th>5051</th>\n",
       "      <td>0</td>\n",
       "      <td>롯데백화점 청량리점</td>\n",
       "    </tr>\n",
       "    <tr>\n",
       "      <th>5092</th>\n",
       "      <td>0</td>\n",
       "      <td>롯데백화점 청량리점</td>\n",
       "    </tr>\n",
       "    <tr>\n",
       "      <th>6705</th>\n",
       "      <td>0</td>\n",
       "      <td>현대백화점 미아점</td>\n",
       "    </tr>\n",
       "    <tr>\n",
       "      <th>6724</th>\n",
       "      <td>0</td>\n",
       "      <td>현대백화점 미아점</td>\n",
       "    </tr>\n",
       "    <tr>\n",
       "      <th>6779</th>\n",
       "      <td>0</td>\n",
       "      <td>현대백화점 미아점</td>\n",
       "    </tr>\n",
       "  </tbody>\n",
       "</table>\n",
       "</div>"
      ],
      "text/plain": [
       "      가격(원)    시장/마트 이름\n",
       "28        0   현대백화점 미아점\n",
       "1139      0  롯데백화점 청량리점\n",
       "1477   5520     이마트 성수점\n",
       "3953      0   롯데백화점 잠실점\n",
       "3982      0   롯데백화점 잠실점\n",
       "4049      0   롯데백화점 잠실점\n",
       "4057      0   롯데백화점 잠실점\n",
       "5002      0  롯데백화점 청량리점\n",
       "5051      0  롯데백화점 청량리점\n",
       "5092      0  롯데백화점 청량리점\n",
       "6705      0   현대백화점 미아점\n",
       "6724      0   현대백화점 미아점\n",
       "6779      0   현대백화점 미아점"
      ]
     },
     "execution_count": 144,
     "metadata": {},
     "output_type": "execute_result"
    }
   ],
   "source": [
    "df30[['가격(원)','시장/마트 이름']]"
   ]
  },
  {
   "cell_type": "code",
   "execution_count": 145,
   "id": "bb5dffa2",
   "metadata": {},
   "outputs": [
    {
     "data": {
      "text/plain": [
       "<matplotlib.collections.PathCollection at 0x1e2549548e0>"
      ]
     },
     "execution_count": 145,
     "metadata": {},
     "output_type": "execute_result"
    },
    {
     "data": {
      "image/png": "[encoded data removed]",
      "text/plain": [
       "<Figure size 640x480 with 1 Axes>"
      ]
     },
     "metadata": {},
     "output_type": "display_data"
    }
   ],
   "source": [
    "x=df30['시장/마트 이름']\n",
    "y=df30['가격(원)']\n",
    "plt.scatter(x,y)"
   ]
  },
  {
   "cell_type": "code",
   "execution_count": null,
   "id": "b84aa8c3",
   "metadata": {},
   "outputs": [],
   "source": []
  },
  {
   "cell_type": "code",
   "execution_count": null,
   "id": "f02413ca",
   "metadata": {},
   "outputs": [],
   "source": []
  },
  {
   "cell_type": "code",
   "execution_count": null,
   "id": "a9765ff3",
   "metadata": {},
   "outputs": [],
   "source": []
  }
 ],
 "metadata": {
  "kernelspec": {
   "display_name": "Python 3 (ipykernel)",
   "language": "python",
   "name": "python3"
  },
  "language_info": {
   "codemirror_mode": {
    "name": "ipython",
    "version": 3
   },
   "file_extension": ".py",
   "mimetype": "text/x-python",
   "name": "python",
   "nbconvert_exporter": "python",
   "pygments_lexer": "ipython3",
   "version": "3.8.7"
  }
 },
 "nbformat": 4,
 "nbformat_minor": 5
}
